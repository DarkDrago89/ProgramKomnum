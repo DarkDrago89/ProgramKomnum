def calculate_backward_differences(y_values):
    """Menghitung selisih mundur (backward differences) dari array y_values dan mengubah hasil negatif ke positif"""
    n = len(y_values)
    differences = []
    temp = y_values.copy()
    
    for level in range(1, n):
        current_diff = []
        for i in range(len(temp)-1):
            diff = temp[i+1] - temp[i]
            current_diff.append(abs(diff))  # Mengambil nilai absolut
        differences.append(current_diff[0])  # Hanya ambil selisih pertama tiap level
        temp = current_diff
    
    return differences

def round_two_decimal(num):
    """Membulatkan ke 2 angka di belakang koma sesuai aturan standar"""
    return int(num * 100 + 0.5) / 100 if num >= 0 else int(num * 100 - 0.5) / 100

def ng_backward_derivative(x_target, x0, h, y_values):
    """Menghitung turunan dengan Newton-Gregory Backward"""
    # Langkah 1: Hitung selisih mundur
    differences = calculate_backward_differences(y_values)
    print("\n=== Langkah 1: Menghitung Selisih Mundur ===")
    for i, diff in enumerate(differences, 1):
        print(f"Δ^{i}y_{-(i)} = {diff}")
    
    # Langkah 2: Hitung parameter s
    s = round_two_decimal((x_target - x0) / h)
    print(f"\n=== Langkah 2: Menghitung Parameter s ===")
    print(f"s = (x - x0)/h = ({x_target} - {x0})/{h} = {s:.2f}")
    
    # Langkah 3: Hitung koefisien
    coeffs = [
        1.00,
        round_two_decimal((2*s + 1)/2),
        round_two_decimal((3*s**2 + 6*s + 2)/6),
        round_two_decimal((4*s**3 + 18*s**2 + 22*s + 6)/24)
    ]
    
    print("\n=== Langkah 3: Menghitung Turunan ===")
    print("Rumus turunan NGB:")
    print("f'(x) ≈ [Δf_{-1} + (2s+1)/2 Δ²f_{-2} + (3s²+6s+2)/6 Δ³f_{-3} + (4s³+18s²+22s+6)/24 Δ⁴f_{-4}] / h")
    
    derivative_terms = []
    total = 0.00
    
    for i in range(len(differences)):
        term = round_two_decimal(coeffs[i] * differences[i])
        derivative_terms.append(term)
        total = round_two_decimal(total + term)
        
        print(f"\nTerm {i+1}:")
        print(f"Koefisien: {coeffs[i]:.2f}")
        print(f"Selisih Δ^{i+1}f_{-(i+1)}: {differences[i]}")
        print(f"Kontribusi: {coeffs[i]:.2f} × {differences[i]} = {term:.2f}")
        print(f"Total sementara: {total:.2f}")
    
    derivative = round_two_decimal(total / h)
    print(f"\n=== Hasil Akhir ===")
    print(f"f'({x_target}) ≈ ({' + '.join([f'{term:.2f}' for term in derivative_terms])}) / {h}")
    print(f"f'({x_target}) ≈ {total:.2f} / {h} = {derivative:.2f}")
    
    return derivative

# Data dari soal
x0 = 15
h = 3
x_target = 16
y_backward = [634575, 184956, 32121, -186, -741]  # y0, y-1, y-2, y-3, y-4

# Hitung turunan
print("===== SOLUSI SOAL NOMOR 31 =====")
print(f"Menghitung f'({x_target}) dengan Newton-Gregory Backward")
print(f"Dengan titik awal x0 = {x0}, h = {h}")
print(f"Nilai y yang digunakan (mundur dari x0): {y_backward}")

f_prime = ng_backward_derivative(x_target, x0, h, y_backward)
